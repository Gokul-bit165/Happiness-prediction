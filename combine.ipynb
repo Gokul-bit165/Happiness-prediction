{
 "cells": [
  {
   "cell_type": "code",
   "execution_count": 1,
   "metadata": {},
   "outputs": [],
   "source": [
    "import numpy as np\n",
    "import pandas as pd\n"
   ]
  },
  {
   "cell_type": "markdown",
   "metadata": {},
   "source": [
    "## Preprocessing the data: Combining the datasheets over years\n"
   ]
  },
  {
   "cell_type": "code",
   "execution_count": 2,
   "metadata": {},
   "outputs": [],
   "source": [
    "fifteen = pd.read_csv(\"2015.csv\")\n",
    "sixteen = pd.read_csv(\"2016.csv\")\n",
    "seventeen = pd.read_csv(\"2017.csv\")\n",
    "eighteen = pd.read_csv(\"2018.csv\")\n",
    "nineteen = pd.read_csv(\"2019.csv\")"
   ]
  },
  {
   "cell_type": "code",
   "execution_count": 3,
   "metadata": {},
   "outputs": [],
   "source": [
    "seventeen = seventeen.rename(columns = {\n",
    "    'Happiness.Rank':'Happiness Rank', 'Economy..GDP.per.Capita.':'Economy (GDP per Capita)', \n",
    "    'Health..Life.Expectancy.':'Health (Life Expectancy)','Trust..Government.Corruption.':'Trust (Government Corruption)'\n",
    "})\n",
    "\n",
    "eighteen = eighteen.rename(columns = {\n",
    "    'Country or region':'Country', 'Overall rank':'Happiness Rank', 'GDP per capita':'Economy (GDP per Capita)',\n",
    "    'Social support':'Family', 'Healthy life expectancy':'Health (Life Expectancy)', 'Freedom to make life choices':'Freedom',\n",
    "    'Perceptions of corruption':'Trust (Government Corruption)'\n",
    "})\n",
    "nineteen = nineteen.rename(columns = {\n",
    "    'Country or region':'Country', 'Overall rank':'Happiness Rank', 'GDP per capita':'Economy (GDP per Capita)',\n",
    "    'Social support':'Family', 'Healthy life expectancy':'Health (Life Expectancy)', 'Freedom to make life choices':'Freedom',\n",
    "    'Perceptions of corruption':'Trust (Government Corruption)'\n",
    "})"
   ]
  },
  {
   "cell_type": "code",
   "execution_count": 4,
   "metadata": {},
   "outputs": [],
   "source": [
    "dfs = [fifteen, sixteen, seventeen, eighteen, nineteen]"
   ]
  },
  {
   "cell_type": "code",
   "execution_count": 5,
   "metadata": {},
   "outputs": [
    {
     "name": "stdout",
     "output_type": "stream",
     "text": [
      "Index(['Country', 'Region', 'Happiness Rank', 'Happiness Score',\n",
      "       'Standard Error', 'Economy (GDP per Capita)', 'Family',\n",
      "       'Health (Life Expectancy)', 'Freedom', 'Trust (Government Corruption)',\n",
      "       'Generosity', 'Dystopia Residual'],\n",
      "      dtype='object')\n",
      "Index(['Country', 'Region', 'Happiness Rank', 'Happiness Score',\n",
      "       'Lower Confidence Interval', 'Upper Confidence Interval',\n",
      "       'Economy (GDP per Capita)', 'Family', 'Health (Life Expectancy)',\n",
      "       'Freedom', 'Trust (Government Corruption)', 'Generosity',\n",
      "       'Dystopia Residual'],\n",
      "      dtype='object')\n",
      "Index(['Country', 'Happiness Rank', 'Happiness.Score', 'Whisker.high',\n",
      "       'Whisker.low', 'Economy (GDP per Capita)', 'Family',\n",
      "       'Health (Life Expectancy)', 'Freedom', 'Generosity',\n",
      "       'Trust (Government Corruption)', 'Dystopia.Residual'],\n",
      "      dtype='object')\n",
      "Index(['Happiness Rank', 'Country', 'Score', 'Economy (GDP per Capita)',\n",
      "       'Family', 'Health (Life Expectancy)', 'Freedom', 'Generosity',\n",
      "       'Trust (Government Corruption)'],\n",
      "      dtype='object')\n",
      "Index(['Happiness Rank', 'Country', 'Score', 'Economy (GDP per Capita)',\n",
      "       'Family', 'Health (Life Expectancy)', 'Freedom', 'Generosity',\n",
      "       'Trust (Government Corruption)'],\n",
      "      dtype='object')\n"
     ]
    }
   ],
   "source": [
    "for df in dfs:\n",
    "    print(df.columns)"
   ]
  },
  {
   "cell_type": "code",
   "execution_count": 10,
   "metadata": {},
   "outputs": [
    {
     "data": {
      "text/plain": [
       "(780, 10)"
      ]
     },
     "execution_count": 10,
     "metadata": {},
     "output_type": "execute_result"
    }
   ],
   "source": [
    "df.shape"
   ]
  },
  {
   "cell_type": "code",
   "execution_count": 11,
   "metadata": {},
   "outputs": [
    {
     "data": {
      "text/plain": [
       "index                              0\n",
       "Country                            0\n",
       "Region                           465\n",
       "Happiness Rank                     0\n",
       "Economy (GDP per Capita)           0\n",
       "Family                             0\n",
       "Health (Life Expectancy)           0\n",
       "Freedom                            0\n",
       "Trust (Government Corruption)      1\n",
       "Generosity                         0\n",
       "dtype: int64"
      ]
     },
     "execution_count": 11,
     "metadata": {},
     "output_type": "execute_result"
    }
   ],
   "source": [
    "df.isna().sum()"
   ]
  },
  {
   "cell_type": "code",
   "execution_count": 15,
   "metadata": {},
   "outputs": [
    {
     "data": {
      "text/html": [
       "<div>\n",
       "<style scoped>\n",
       "    .dataframe tbody tr th:only-of-type {\n",
       "        vertical-align: middle;\n",
       "    }\n",
       "\n",
       "    .dataframe tbody tr th {\n",
       "        vertical-align: top;\n",
       "    }\n",
       "\n",
       "    .dataframe thead th {\n",
       "        text-align: right;\n",
       "    }\n",
       "</style>\n",
       "<table border=\"1\" class=\"dataframe\">\n",
       "  <thead>\n",
       "    <tr style=\"text-align: right;\">\n",
       "      <th></th>\n",
       "      <th>index</th>\n",
       "      <th>Country</th>\n",
       "      <th>Region</th>\n",
       "      <th>Happiness Rank</th>\n",
       "      <th>Economy (GDP per Capita)</th>\n",
       "      <th>Family</th>\n",
       "      <th>Health (Life Expectancy)</th>\n",
       "      <th>Freedom</th>\n",
       "      <th>Trust (Government Corruption)</th>\n",
       "      <th>Generosity</th>\n",
       "    </tr>\n",
       "  </thead>\n",
       "  <tbody>\n",
       "    <tr>\n",
       "      <th>0</th>\n",
       "      <td>153</td>\n",
       "      <td>Afghanistan</td>\n",
       "      <td>Southern Asia</td>\n",
       "      <td>154</td>\n",
       "      <td>0.382270</td>\n",
       "      <td>0.110370</td>\n",
       "      <td>0.173440</td>\n",
       "      <td>0.16430</td>\n",
       "      <td>0.071120</td>\n",
       "      <td>0.312680</td>\n",
       "    </tr>\n",
       "    <tr>\n",
       "      <th>1</th>\n",
       "      <td>152</td>\n",
       "      <td>Afghanistan</td>\n",
       "      <td>Southern Asia</td>\n",
       "      <td>153</td>\n",
       "      <td>0.319820</td>\n",
       "      <td>0.302850</td>\n",
       "      <td>0.303350</td>\n",
       "      <td>0.23414</td>\n",
       "      <td>0.097190</td>\n",
       "      <td>0.365100</td>\n",
       "    </tr>\n",
       "    <tr>\n",
       "      <th>2</th>\n",
       "      <td>144</td>\n",
       "      <td>Afghanistan</td>\n",
       "      <td>NaN</td>\n",
       "      <td>145</td>\n",
       "      <td>0.332000</td>\n",
       "      <td>0.537000</td>\n",
       "      <td>0.255000</td>\n",
       "      <td>0.08500</td>\n",
       "      <td>0.036000</td>\n",
       "      <td>0.191000</td>\n",
       "    </tr>\n",
       "    <tr>\n",
       "      <th>3</th>\n",
       "      <td>153</td>\n",
       "      <td>Afghanistan</td>\n",
       "      <td>NaN</td>\n",
       "      <td>154</td>\n",
       "      <td>0.350000</td>\n",
       "      <td>0.517000</td>\n",
       "      <td>0.361000</td>\n",
       "      <td>0.00000</td>\n",
       "      <td>0.025000</td>\n",
       "      <td>0.158000</td>\n",
       "    </tr>\n",
       "    <tr>\n",
       "      <th>4</th>\n",
       "      <td>140</td>\n",
       "      <td>Afghanistan</td>\n",
       "      <td>NaN</td>\n",
       "      <td>141</td>\n",
       "      <td>0.401477</td>\n",
       "      <td>0.581543</td>\n",
       "      <td>0.180747</td>\n",
       "      <td>0.10618</td>\n",
       "      <td>0.061158</td>\n",
       "      <td>0.311871</td>\n",
       "    </tr>\n",
       "  </tbody>\n",
       "</table>\n",
       "</div>"
      ],
      "text/plain": [
       "   index      Country         Region  Happiness Rank  \\\n",
       "0    153  Afghanistan  Southern Asia             154   \n",
       "1    152  Afghanistan  Southern Asia             153   \n",
       "2    144  Afghanistan            NaN             145   \n",
       "3    153  Afghanistan            NaN             154   \n",
       "4    140  Afghanistan            NaN             141   \n",
       "\n",
       "   Economy (GDP per Capita)    Family  Health (Life Expectancy)  Freedom  \\\n",
       "0                  0.382270  0.110370                  0.173440  0.16430   \n",
       "1                  0.319820  0.302850                  0.303350  0.23414   \n",
       "2                  0.332000  0.537000                  0.255000  0.08500   \n",
       "3                  0.350000  0.517000                  0.361000  0.00000   \n",
       "4                  0.401477  0.581543                  0.180747  0.10618   \n",
       "\n",
       "   Trust (Government Corruption)  Generosity  \n",
       "0                       0.071120    0.312680  \n",
       "1                       0.097190    0.365100  \n",
       "2                       0.036000    0.191000  \n",
       "3                       0.025000    0.158000  \n",
       "4                       0.061158    0.311871  "
      ]
     },
     "execution_count": 15,
     "metadata": {},
     "output_type": "execute_result"
    }
   ],
   "source": [
    "df.head()"
   ]
  },
  {
   "cell_type": "code",
   "execution_count": 19,
   "metadata": {},
   "outputs": [
    {
     "data": {
      "text/plain": [
       "array(['Afghanistan', 'Albania', 'Algeria', 'Angola', 'Argentina',\n",
       "       'Armenia', 'Australia', 'Austria', 'Azerbaijan', 'Bahrain',\n",
       "       'Bangladesh', 'Belarus', 'Belgium', 'Belize', 'Benin', 'Bhutan',\n",
       "       'Bolivia', 'Bosnia and Herzegovina', 'Botswana', 'Brazil',\n",
       "       'Bulgaria', 'Burkina Faso', 'Burundi', 'Cambodia', 'Cameroon',\n",
       "       'Canada', 'Central African Republic', 'Chad', 'Chile', 'China',\n",
       "       'Colombia', 'Comoros', 'Congo (Brazzaville)', 'Congo (Kinshasa)',\n",
       "       'Costa Rica', 'Croatia', 'Cyprus', 'Czech Republic', 'Denmark',\n",
       "       'Djibouti', 'Dominican Republic', 'Ecuador', 'Egypt',\n",
       "       'El Salvador', 'Estonia', 'Ethiopia', 'Finland', 'France', 'Gabon',\n",
       "       'Gambia', 'Georgia', 'Germany', 'Ghana', 'Greece', 'Guatemala',\n",
       "       'Guinea', 'Haiti', 'Honduras', 'Hong Kong',\n",
       "       'Hong Kong S.A.R., China', 'Hungary', 'Iceland', 'India',\n",
       "       'Indonesia', 'Iran', 'Iraq', 'Ireland', 'Israel', 'Italy',\n",
       "       'Ivory Coast', 'Jamaica', 'Japan', 'Jordan', 'Kazakhstan', 'Kenya',\n",
       "       'Kosovo', 'Kuwait', 'Kyrgyzstan', 'Laos', 'Latvia', 'Lebanon',\n",
       "       'Lesotho', 'Liberia', 'Libya', 'Lithuania', 'Luxembourg',\n",
       "       'Macedonia', 'Madagascar', 'Malawi', 'Malaysia', 'Mali', 'Malta',\n",
       "       'Mauritania', 'Mauritius', 'Mexico', 'Moldova', 'Mongolia',\n",
       "       'Montenegro', 'Morocco', 'Mozambique', 'Myanmar', 'Namibia',\n",
       "       'Nepal', 'Netherlands', 'New Zealand', 'Nicaragua', 'Niger',\n",
       "       'Nigeria', 'North Cyprus', 'North Macedonia', 'Norway', 'Oman',\n",
       "       'Pakistan', 'Palestinian Territories', 'Panama', 'Paraguay',\n",
       "       'Peru', 'Philippines', 'Poland', 'Portugal', 'Puerto Rico',\n",
       "       'Qatar', 'Romania', 'Russia', 'Rwanda', 'Saudi Arabia', 'Senegal',\n",
       "       'Serbia', 'Sierra Leone', 'Singapore', 'Slovakia', 'Slovenia',\n",
       "       'Somalia', 'Somaliland Region', 'Somaliland region',\n",
       "       'South Africa', 'South Korea', 'South Sudan', 'Spain', 'Sri Lanka',\n",
       "       'Sudan', 'Suriname', 'Swaziland', 'Sweden', 'Switzerland', 'Syria',\n",
       "       'Taiwan', 'Taiwan Province of China', 'Tajikistan', 'Tanzania',\n",
       "       'Thailand', 'Togo', 'Trinidad & Tobago', 'Trinidad and Tobago',\n",
       "       'Tunisia', 'Turkey', 'Turkmenistan', 'Uganda', 'Ukraine',\n",
       "       'United Arab Emirates', 'United Kingdom', 'United States',\n",
       "       'Uruguay', 'Uzbekistan', 'Venezuela', 'Vietnam', 'Yemen', 'Zambia',\n",
       "       'Zimbabwe'], dtype=object)"
      ]
     },
     "execution_count": 19,
     "metadata": {},
     "output_type": "execute_result"
    }
   ],
   "source": [
    "df['Country'].unique()"
   ]
  },
  {
   "cell_type": "code",
   "execution_count": null,
   "metadata": {},
   "outputs": [],
   "source": [
    "df = pd.concat(dfs)\n",
    "df =df.sort_values(by = ['Country'])\n",
    "df = df.drop(columns=['Happiness Score','Standard Error','Dystopia Residual','Lower Confidence Interval','Upper Confidence Interval','Happiness.Score','Whisker.high','Whisker.low','Dystopia.Residual','Score',])\n",
    "df = df.reset_index()\n"
   ]
  },
  {
   "cell_type": "code",
   "execution_count": 20,
   "metadata": {},
   "outputs": [],
   "source": [
    "df = df.drop(index=df.iloc[np.where(df['Country'] == 'Northern Cyprus')[0]].index)\n",
    "df = df.drop(index=df.iloc[np.where(df['Country'] == 'Northern Macedonia')[0]].index)"
   ]
  },
  {
   "cell_type": "code",
   "execution_count": null,
   "metadata": {},
   "outputs": [
    {
     "data": {
      "text/html": [
       "<div>\n",
       "<style scoped>\n",
       "    .dataframe tbody tr th:only-of-type {\n",
       "        vertical-align: middle;\n",
       "    }\n",
       "\n",
       "    .dataframe tbody tr th {\n",
       "        vertical-align: top;\n",
       "    }\n",
       "\n",
       "    .dataframe thead th {\n",
       "        text-align: right;\n",
       "    }\n",
       "</style>\n",
       "<table border=\"1\" class=\"dataframe\">\n",
       "  <thead>\n",
       "    <tr style=\"text-align: right;\">\n",
       "      <th></th>\n",
       "      <th>index</th>\n",
       "      <th>Country</th>\n",
       "      <th>Region</th>\n",
       "      <th>Happiness Rank</th>\n",
       "      <th>Economy (GDP per Capita)</th>\n",
       "      <th>Family</th>\n",
       "      <th>Health (Life Expectancy)</th>\n",
       "      <th>Freedom</th>\n",
       "      <th>Trust (Government Corruption)</th>\n",
       "      <th>Generosity</th>\n",
       "    </tr>\n",
       "  </thead>\n",
       "  <tbody>\n",
       "    <tr>\n",
       "      <th>0</th>\n",
       "      <td>153</td>\n",
       "      <td>Afghanistan</td>\n",
       "      <td>Southern Asia</td>\n",
       "      <td>154</td>\n",
       "      <td>0.382270</td>\n",
       "      <td>0.110370</td>\n",
       "      <td>0.173440</td>\n",
       "      <td>0.164300</td>\n",
       "      <td>0.071120</td>\n",
       "      <td>0.312680</td>\n",
       "    </tr>\n",
       "    <tr>\n",
       "      <th>1</th>\n",
       "      <td>152</td>\n",
       "      <td>Afghanistan</td>\n",
       "      <td>Southern Asia</td>\n",
       "      <td>153</td>\n",
       "      <td>0.319820</td>\n",
       "      <td>0.302850</td>\n",
       "      <td>0.303350</td>\n",
       "      <td>0.234140</td>\n",
       "      <td>0.097190</td>\n",
       "      <td>0.365100</td>\n",
       "    </tr>\n",
       "    <tr>\n",
       "      <th>2</th>\n",
       "      <td>144</td>\n",
       "      <td>Afghanistan</td>\n",
       "      <td>NaN</td>\n",
       "      <td>145</td>\n",
       "      <td>0.332000</td>\n",
       "      <td>0.537000</td>\n",
       "      <td>0.255000</td>\n",
       "      <td>0.085000</td>\n",
       "      <td>0.036000</td>\n",
       "      <td>0.191000</td>\n",
       "    </tr>\n",
       "    <tr>\n",
       "      <th>3</th>\n",
       "      <td>153</td>\n",
       "      <td>Afghanistan</td>\n",
       "      <td>NaN</td>\n",
       "      <td>154</td>\n",
       "      <td>0.350000</td>\n",
       "      <td>0.517000</td>\n",
       "      <td>0.361000</td>\n",
       "      <td>0.000000</td>\n",
       "      <td>0.025000</td>\n",
       "      <td>0.158000</td>\n",
       "    </tr>\n",
       "    <tr>\n",
       "      <th>4</th>\n",
       "      <td>140</td>\n",
       "      <td>Afghanistan</td>\n",
       "      <td>NaN</td>\n",
       "      <td>141</td>\n",
       "      <td>0.401477</td>\n",
       "      <td>0.581543</td>\n",
       "      <td>0.180747</td>\n",
       "      <td>0.106180</td>\n",
       "      <td>0.061158</td>\n",
       "      <td>0.311871</td>\n",
       "    </tr>\n",
       "    <tr>\n",
       "      <th>...</th>\n",
       "      <td>...</td>\n",
       "      <td>...</td>\n",
       "      <td>...</td>\n",
       "      <td>...</td>\n",
       "      <td>...</td>\n",
       "      <td>...</td>\n",
       "      <td>...</td>\n",
       "      <td>...</td>\n",
       "      <td>...</td>\n",
       "      <td>...</td>\n",
       "    </tr>\n",
       "    <tr>\n",
       "      <th>777</th>\n",
       "      <td>143</td>\n",
       "      <td>Zimbabwe</td>\n",
       "      <td>NaN</td>\n",
       "      <td>144</td>\n",
       "      <td>0.357000</td>\n",
       "      <td>1.094000</td>\n",
       "      <td>0.248000</td>\n",
       "      <td>0.406000</td>\n",
       "      <td>0.099000</td>\n",
       "      <td>0.132000</td>\n",
       "    </tr>\n",
       "    <tr>\n",
       "      <th>778</th>\n",
       "      <td>145</td>\n",
       "      <td>Zimbabwe</td>\n",
       "      <td>NaN</td>\n",
       "      <td>146</td>\n",
       "      <td>0.366000</td>\n",
       "      <td>1.114000</td>\n",
       "      <td>0.433000</td>\n",
       "      <td>0.361000</td>\n",
       "      <td>0.089000</td>\n",
       "      <td>0.151000</td>\n",
       "    </tr>\n",
       "    <tr>\n",
       "      <th>779</th>\n",
       "      <td>114</td>\n",
       "      <td>Zimbabwe</td>\n",
       "      <td>Sub-Saharan Africa</td>\n",
       "      <td>115</td>\n",
       "      <td>0.271000</td>\n",
       "      <td>1.032760</td>\n",
       "      <td>0.334750</td>\n",
       "      <td>0.258610</td>\n",
       "      <td>0.080790</td>\n",
       "      <td>0.189870</td>\n",
       "    </tr>\n",
       "    <tr>\n",
       "      <th>780</th>\n",
       "      <td>130</td>\n",
       "      <td>Zimbabwe</td>\n",
       "      <td>Sub-Saharan Africa</td>\n",
       "      <td>131</td>\n",
       "      <td>0.350410</td>\n",
       "      <td>0.714780</td>\n",
       "      <td>0.159500</td>\n",
       "      <td>0.254290</td>\n",
       "      <td>0.085820</td>\n",
       "      <td>0.185030</td>\n",
       "    </tr>\n",
       "    <tr>\n",
       "      <th>781</th>\n",
       "      <td>137</td>\n",
       "      <td>Zimbabwe</td>\n",
       "      <td>NaN</td>\n",
       "      <td>138</td>\n",
       "      <td>0.375847</td>\n",
       "      <td>1.083096</td>\n",
       "      <td>0.196764</td>\n",
       "      <td>0.336384</td>\n",
       "      <td>0.095375</td>\n",
       "      <td>0.189143</td>\n",
       "    </tr>\n",
       "  </tbody>\n",
       "</table>\n",
       "<p>777 rows × 10 columns</p>\n",
       "</div>"
      ],
      "text/plain": [
       "     index      Country              Region  Happiness Rank  \\\n",
       "0      153  Afghanistan       Southern Asia             154   \n",
       "1      152  Afghanistan       Southern Asia             153   \n",
       "2      144  Afghanistan                 NaN             145   \n",
       "3      153  Afghanistan                 NaN             154   \n",
       "4      140  Afghanistan                 NaN             141   \n",
       "..     ...          ...                 ...             ...   \n",
       "777    143     Zimbabwe                 NaN             144   \n",
       "778    145     Zimbabwe                 NaN             146   \n",
       "779    114     Zimbabwe  Sub-Saharan Africa             115   \n",
       "780    130     Zimbabwe  Sub-Saharan Africa             131   \n",
       "781    137     Zimbabwe                 NaN             138   \n",
       "\n",
       "     Economy (GDP per Capita)    Family  Health (Life Expectancy)   Freedom  \\\n",
       "0                    0.382270  0.110370                  0.173440  0.164300   \n",
       "1                    0.319820  0.302850                  0.303350  0.234140   \n",
       "2                    0.332000  0.537000                  0.255000  0.085000   \n",
       "3                    0.350000  0.517000                  0.361000  0.000000   \n",
       "4                    0.401477  0.581543                  0.180747  0.106180   \n",
       "..                        ...       ...                       ...       ...   \n",
       "777                  0.357000  1.094000                  0.248000  0.406000   \n",
       "778                  0.366000  1.114000                  0.433000  0.361000   \n",
       "779                  0.271000  1.032760                  0.334750  0.258610   \n",
       "780                  0.350410  0.714780                  0.159500  0.254290   \n",
       "781                  0.375847  1.083096                  0.196764  0.336384   \n",
       "\n",
       "     Trust (Government Corruption)  Generosity  \n",
       "0                         0.071120    0.312680  \n",
       "1                         0.097190    0.365100  \n",
       "2                         0.036000    0.191000  \n",
       "3                         0.025000    0.158000  \n",
       "4                         0.061158    0.311871  \n",
       "..                             ...         ...  \n",
       "777                       0.099000    0.132000  \n",
       "778                       0.089000    0.151000  \n",
       "779                       0.080790    0.189870  \n",
       "780                       0.085820    0.185030  \n",
       "781                       0.095375    0.189143  \n",
       "\n",
       "[777 rows x 10 columns]"
      ]
     },
     "execution_count": 26,
     "metadata": {},
     "output_type": "execute_result"
    }
   ],
   "source": []
  },
  {
   "cell_type": "code",
   "execution_count": 29,
   "metadata": {},
   "outputs": [
    {
     "data": {
      "text/plain": [
       "(777, 10)"
      ]
     },
     "execution_count": 29,
     "metadata": {},
     "output_type": "execute_result"
    }
   ],
   "source": [
    "df.shape\n"
   ]
  },
  {
   "cell_type": "code",
   "execution_count": 31,
   "metadata": {},
   "outputs": [],
   "source": [
    "combined_df = df.copy()"
   ]
  },
  {
   "cell_type": "code",
   "execution_count": 32,
   "metadata": {},
   "outputs": [],
   "source": [
    "combined_df.to_csv('combined_happiness_data.csv', index=False)"
   ]
  }
 ],
 "metadata": {
  "kernelspec": {
   "display_name": "base",
   "language": "python",
   "name": "python3"
  },
  "language_info": {
   "codemirror_mode": {
    "name": "ipython",
    "version": 3
   },
   "file_extension": ".py",
   "mimetype": "text/x-python",
   "name": "python",
   "nbconvert_exporter": "python",
   "pygments_lexer": "ipython3",
   "version": "3.13.5"
  }
 },
 "nbformat": 4,
 "nbformat_minor": 4
}
